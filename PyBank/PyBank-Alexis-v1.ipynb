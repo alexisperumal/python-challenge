{
 "cells": [
  {
   "cell_type": "code",
   "execution_count": null,
   "metadata": {},
   "outputs": [],
   "source": [
    "# Alexis Perumal, 11/19/19\n",
    "# UCSD Data Science Bootcamp, HW#3, Part 1, PyBank\n",
    "# \n",
    "# In this challenge, you are tasked with creating a Python script for analyzing the financial records of your company. You will give a set of financial data called budget_data.csv. The dataset is composed of two columns: Date and Profit/Losses. (Thankfully, your company has rather lax standards for accounting so the records are simple.)\n",
    "# \n",
    "# Your task is to create a Python script that analyzes the records to calculate each of the following:\n",
    "#   • The total number of months included in the dataset\n",
    "#   • The net total amount of \"Profit/Losses\" over the entire period\n",
    "#   • The average of the changes in \"Profit/Losses\" over the entire period\n",
    "#   • The greatest increase in profits (date and amount) over the entire period\n",
    "#   • The greatest decrease in losses (date and amount) over the entire period\n",
    "# \n",
    "# As an example, your analysis should look similar to the one below: (see instructions)\n",
    "#       \n",
    "# In addition, your final script should both print the analysis to the terminal and export a text file with the results.\n",
    "#\n"
   ]
  },
  {
   "cell_type": "code",
   "execution_count": 3,
   "metadata": {},
   "outputs": [
    {
     "name": "stdout",
     "output_type": "stream",
     "text": [
      "<_csv.reader object at 0x109b52748>\n",
      "CSV Header: ['Date', 'Profit/Losses']\n",
      "row #0: ['Jan-2010', '867884']\n",
      "row #1: ['Feb-2010', '984655']\n",
      "row #2: ['Mar-2010', '322013']\n",
      "row #3: ['Apr-2010', '-69417']\n",
      "row #4: ['May-2010', '310503']\n"
     ]
    }
   ],
   "source": [
    "import os\n",
    "\n",
    "# Module for reading CSV files\n",
    "import csv\n",
    "\n",
    "csvpath = os.path.join('.', 'Resources', 'budget_data.csv')\n",
    "\n",
    "with open(csvpath, newline='') as csvfile:\n",
    "    # CSV reader specifies delimiter and variable that holds contents\n",
    "    csvreader = csv.reader(csvfile, delimiter=',')\n",
    "    print(csvreader)\n",
    "\n",
    "    # Read the header row first (skip this step if there is now header)\n",
    "    csv_header = next(csvreader)\n",
    "    print(f\"CSV Header: {csv_header}\")\n",
    "    \n",
    "    records = []\n",
    "    \n",
    "    for row in csvreader:\n",
    "        records.append(row)\n",
    "\n",
    "    # Read each row of data after the header\n",
    "    i = 0\n",
    "    for row in records:\n",
    "        if i >= 5:\n",
    "            break\n",
    "        else:\n",
    "            print(\"row #\" + str(i) + \": \" + str(row))\n",
    "            i += 1"
   ]
  },
  {
   "cell_type": "code",
   "execution_count": null,
   "metadata": {},
   "outputs": [],
   "source": [
    "# Your task is to create a Python script that analyzes the records to calculate each of the following:\n",
    "#   • The total number of months included in the dataset\n",
    "#   • The net total amount of \"Profit/Losses\" over the entire period\n",
    "#   • The average of the changes in \"Profit/Losses\" over the entire period\n",
    "#   • The greatest increase in profits (date and amount) over the entire period\n",
    "#   • The greatest decrease in losses (date and amount) over the entire period\n",
    "\n",
    "num_months = len(records)\n",
    "total_profit = 0\n",
    "avg_change = 0\n",
    "greatest_inc_mo = \"\"\n",
    "greatest_inc_amt = 0\n",
    "greatest_dec_mo = \"\"\n",
    "greatest_dec_amt = 0\n",
    "\n"
   ]
  }
 ],
 "metadata": {
  "kernelspec": {
   "display_name": "Python 3",
   "language": "python",
   "name": "python3"
  },
  "language_info": {
   "codemirror_mode": {
    "name": "ipython",
    "version": 3
   },
   "file_extension": ".py",
   "mimetype": "text/x-python",
   "name": "python",
   "nbconvert_exporter": "python",
   "pygments_lexer": "ipython3",
   "version": "3.6.5"
  }
 },
 "nbformat": 4,
 "nbformat_minor": 2
}
