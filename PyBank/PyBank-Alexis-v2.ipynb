{
 "cells": [
  {
   "cell_type": "code",
   "execution_count": null,
   "metadata": {},
   "outputs": [],
   "source": [
    "# Alexis Perumal, 11/19/19\n",
    "# UCSD Data Science Bootcamp, HW#3, Part 1, PyBank\n",
    "# \n",
    "# In this challenge, you are tasked with creating a Python script for analyzing the financial records of your company. You will give a set of financial data called budget_data.csv. The dataset is composed of two columns: Date and Profit/Losses. (Thankfully, your company has rather lax standards for accounting so the records are simple.)\n",
    "# \n",
    "# Your task is to create a Python script that analyzes the records to calculate each of the following:\n",
    "#   • The total number of months included in the dataset\n",
    "#   • The net total amount of \"Profit/Losses\" over the entire period\n",
    "#   • The average of the changes in \"Profit/Losses\" over the entire period\n",
    "#   • The greatest increase in profits (date and amount) over the entire period\n",
    "#   • The greatest decrease in losses (date and amount) over the entire period\n",
    "# \n",
    "# As an example, your analysis should look similar to the one below: (see instructions)\n",
    "#       \n",
    "# In addition, your final script should both print the analysis to the terminal and export a text file with the results.\n",
    "#\n",
    "# v1 (11/20/19) - Open the dataset csv file and read it into a list.\n",
    "# v2 (11/20/19) - Since the results can be computed in one pass, don't store the dataset locally, just find the\n",
    "#                 results we need and report them.\n"
   ]
  },
  {
   "cell_type": "code",
   "execution_count": 39,
   "metadata": {},
   "outputs": [
    {
     "name": "stdout",
     "output_type": "stream",
     "text": [
      "Financial Analysis\n",
      "----------------------------\n",
      "Total Months: 86\n",
      "Total: $38382578\n",
      "Average Change: $-2315.12\n",
      "Greatest Increase in Profits: Feb-2012 ($1926159)\n",
      "Greatest Decrease in Profits: Sep-2013 ($-2196167)\n"
     ]
    }
   ],
   "source": [
    "import os\n",
    "\n",
    "# Module for reading CSV files\n",
    "import csv\n",
    "\n",
    "csvpath = os.path.join('.', 'Resources', 'budget_data.csv')\n",
    "\n",
    "with open(csvpath, newline='') as csvfile:\n",
    "    # CSV reader specifies delimiter and variable that holds contents\n",
    "    csvreader = csv.reader(csvfile, delimiter=',')\n",
    "    # print(csvreader)\n",
    "\n",
    "    # Read the header row first (skip this step if there is no header)\n",
    "    csv_header = next(csvreader)\n",
    "    # print(f\"CSV Header: {csv_header}\")\n",
    "    \n",
    "    # Your task is to create a Python script that analyzes the records to calculate each of the following:\n",
    "    #   • The total number of months included in the dataset\n",
    "    #   • The net total amount of \"Profit/Losses\" over the entire period\n",
    "    #   • The average of the changes in \"Profit/Losses\" over the entire period\n",
    "    #   • The greatest increase in profits (date and amount) over the entire period\n",
    "    #   • The greatest decrease in losses (date and amount) over the entire period\n",
    "    \n",
    "    # Declare necessary variables and initialize them based on the first record\n",
    "    first_record = next(csvreader) # [date, profit]\n",
    "    num_months = 1\n",
    "    total_profit = int(first_record[1])\n",
    "    prior_profit =  int(first_record[1])\n",
    "    total_change = 0\n",
    "    greatest_inc_mo = first_record[0]\n",
    "    greatest_inc_amt = 0\n",
    "    greatest_dec_mo = first_record[0]\n",
    "    greatest_dec_amt = 0\n",
    "    \n",
    "    for record in csvreader:\n",
    "        num_months += 1\n",
    "        month = record[0]\n",
    "        profit = int(record[1])\n",
    "        # print(month, profit)\n",
    "        total_profit += profit  # Accumulate total profit\n",
    "            \n",
    "        # Keep track of accumulated change in profit\n",
    "        chg = (profit - prior_profit)\n",
    "        total_change += chg\n",
    "        prior_profit = profit  # setup for the next loop iteration calculation\n",
    "                \n",
    "        # Update if there is a new high or low\n",
    "        if chg > greatest_inc_amt:\n",
    "            greatest_inc_amt = chg\n",
    "            greatest_inc_mo = month\n",
    "        elif chg < greatest_dec_amt:\n",
    "            greatest_dec_amt = chg\n",
    "            greatest_dec_mo = month   \n",
    "        \n",
    "    # Report the results \n",
    "    print(\"Financial Analysis\")\n",
    "    print(\"----------------------------\")\n",
    "    print(\"Total Months: %d\" % num_months)\n",
    "    print(\"Total: $%d\" % total_profit)\n",
    "    print(\"Average Change: $%0.2f\" % float(total_change/(num_months-1)))\n",
    "    print(\"Greatest Increase in Profits: %s ($%d)\" % (greatest_inc_mo, greatest_inc_amt))\n",
    "    print(\"Greatest Decrease in Profits: %s ($%d)\" % (greatest_dec_mo, greatest_dec_amt))\n",
    "\n",
    "\n"
   ]
  },
  {
   "cell_type": "code",
   "execution_count": null,
   "metadata": {},
   "outputs": [],
   "source": []
  },
  {
   "cell_type": "code",
   "execution_count": null,
   "metadata": {},
   "outputs": [],
   "source": []
  }
 ],
 "metadata": {
  "kernelspec": {
   "display_name": "Python 3",
   "language": "python",
   "name": "python3"
  },
  "language_info": {
   "codemirror_mode": {
    "name": "ipython",
    "version": 3
   },
   "file_extension": ".py",
   "mimetype": "text/x-python",
   "name": "python",
   "nbconvert_exporter": "python",
   "pygments_lexer": "ipython3",
   "version": "3.6.5"
  }
 },
 "nbformat": 4,
 "nbformat_minor": 2
}
